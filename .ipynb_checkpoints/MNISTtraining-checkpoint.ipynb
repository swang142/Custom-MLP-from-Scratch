{
 "cells": [
  {
   "cell_type": "code",
   "execution_count": 2,
   "id": "95d34089-2772-4a57-af28-1b8eb0bb4180",
   "metadata": {},
   "outputs": [],
   "source": [
    "from importnb import Notebook\n",
    "\n",
    "with Notebook():\n",
    "    from CustomMLPFromScratch import SimpleMLPNN"
   ]
  },
  {
   "cell_type": "code",
   "execution_count": 3,
   "id": "e879fbf3-c76a-49e2-91ee-d8c46dc31e8c",
   "metadata": {},
   "outputs": [
    {
     "name": "stdout",
     "output_type": "stream",
     "text": [
      "(785, 10000)\n",
      "(784, 50000)\n",
      "(1, 50000)\n"
     ]
    }
   ],
   "source": [
    "import pandas as pd\n",
    "import numpy as np\n",
    "\n",
    "data = pd.read_csv('./mnist_train.csv')\n",
    "train_data = np.array(data)[:50000].T\n",
    "test_data = np.array(data)[50000:].T\n",
    "\n",
    "print(test_data.shape)\n",
    "\n",
    "cols = train_data.shape[1]\n",
    "X_train = train_data[1:cols]/255.0\n",
    "Y_train = train_data[0].reshape(1, -1)\n",
    "\n",
    "X_test = test_data[1:cols]/255.0\n",
    "Y_test = test_data[0].reshape(1, -1)\n",
    "\n",
    "print(X_train.shape)\n",
    "print(Y_train.shape)\n",
    "\n",
    "def one_hot_encode(Y):\n",
    "    one_hot_matrix = np.zeros((Y.size, Y.max() + 1))\n",
    "    one_hot_matrix[np.arange(Y.size), Y] = 1\n",
    "    return one_hot_matrix.T\n",
    "    \n",
    "Y_train = one_hot_encode(Y_train)\n",
    "Y_test = one_hot_encode(Y_test)"
   ]
  },
  {
   "cell_type": "code",
   "execution_count": 4,
   "id": "17f339d4-a259-4ef6-a1f2-85c15bae77d7",
   "metadata": {},
   "outputs": [
    {
     "name": "stdout",
     "output_type": "stream",
     "text": [
      "50000\n",
      "Epoch 0, Cost: 0.35640729606437\n",
      "Epoch 50, Cost: 0.16027307892427764\n",
      "Epoch 100, Cost: 0.15166734273749002\n",
      "Epoch 150, Cost: 0.15061970037933056\n",
      "Epoch 200, Cost: 0.13205172216705194\n",
      "Epoch 250, Cost: 0.1273721704450913\n"
     ]
    }
   ],
   "source": [
    "layer_sizes = [784, 10, 10]\n",
    "activations = ['relu', 'softmax']\n",
    "\n",
    "model = SimpleMLPNN(layer_sizes, activations, loss_function='categorical_cross_entropy', learning_rate = 0.1)\n",
    "model.train(X_train, Y_train, 300,  64)"
   ]
  },
  {
   "cell_type": "code",
   "execution_count": 5,
   "id": "68c75c2c-eda9-4feb-b5d2-c4277fb068bc",
   "metadata": {},
   "outputs": [
    {
     "name": "stdout",
     "output_type": "stream",
     "text": [
      "[[1.43513732e-07 3.19430398e-08 2.35978425e-08 ... 5.08733339e-10\n",
      "  9.70079250e-10 2.11536018e-03]\n",
      " [1.10709570e-07 2.31025096e-07 2.76379271e-18 ... 3.91987508e-05\n",
      "  1.32398932e-17 8.10094490e-10]\n",
      " [1.46178875e-02 7.47515220e-05 5.23081505e-07 ... 7.83222937e-15\n",
      "  1.73236887e-12 2.07890414e-06]\n",
      " ...\n",
      " [6.61195390e-09 2.42805579e-07 2.69207946e-09 ... 7.37630561e-10\n",
      "  1.60588993e-12 3.91548888e-07]\n",
      " [1.50989007e-03 9.91808877e-01 1.66403039e-11 ... 1.14721597e-06\n",
      "  3.45976068e-14 9.95330674e-01]\n",
      " [1.23514961e-10 6.95347415e-05 1.98591803e-15 ... 1.62294191e-09\n",
      "  1.99310056e-15 1.38251810e-03]]\n",
      "Test Accuracy: 0.9428\n"
     ]
    },
    {
     "data": {
      "text/plain": [
       "0.9428"
      ]
     },
     "execution_count": 5,
     "metadata": {},
     "output_type": "execute_result"
    }
   ],
   "source": [
    "model.test(X_test, Y_test, metric = 'accuracy')"
   ]
  },
  {
   "cell_type": "code",
   "execution_count": 6,
   "id": "98748a89-bc01-48b3-88ed-fdf710ce279e",
   "metadata": {},
   "outputs": [
    {
     "data": {
      "image/png": "[encoded data removed]",
      "text/plain": [
       "<Figure size 640x480 with 1 Axes>"
      ]
     },
     "metadata": {},
     "output_type": "display_data"
    },
    {
     "name": "stdout",
     "output_type": "stream",
     "text": [
      "[[7.40527587e-08]\n",
      " [7.54091810e-04]\n",
      " [9.32687054e-04]\n",
      " [3.94925959e-03]\n",
      " [1.46961431e-09]\n",
      " [2.72626455e-04]\n",
      " [1.36821908e-05]\n",
      " [5.81660591e-10]\n",
      " [9.94077494e-01]\n",
      " [8.24578619e-08]]\n",
      "[8]\n"
     ]
    }
   ],
   "source": [
    "from PIL import Image, ImageOps\n",
    "import numpy as np\n",
    "import matplotlib.pyplot as plt\n",
    "\n",
    "# Open an image file\n",
    "image = Image.open('./canvas(5).png')\n",
    "# Convert the image to grayscale\n",
    "image = image.convert('L')\n",
    "\n",
    "image = ImageOps.invert(image)\n",
    "\n",
    "\n",
    "# Resize the image to 28x28 pixels\n",
    "image = image.resize((28, 28))\n",
    "\n",
    "# Convert image to numpy array\n",
    "image_np = np.array(image)\n",
    "\n",
    "# Normalize the pixel values to the range [0, 1]\n",
    "image_np = image_np / 255.0\n",
    "\n",
    "plt.gray()\n",
    "plt.imshow(image_np, interpolation='nearest')\n",
    "plt.show()\n",
    "\n",
    "image_np = image_np.reshape((784,1))\n",
    "\n",
    "pred_arr = model.make_predictions(image_np)\n",
    "print(pred_arr)\n",
    "print(np.argmax(pred_arr, 0))"
   ]
  },
  {
   "cell_type": "code",
   "execution_count": 8,
   "id": "120477df-e6db-4d72-af01-3f9499b4eeb3",
   "metadata": {},
   "outputs": [
    {
     "name": "stdout",
     "output_type": "stream",
     "text": [
      "Prediction:  [9]\n",
      "Label:  [9]\n"
     ]
    },
    {
     "data": {
      "image/png": "[encoded data removed]",
      "text/plain": [
       "<Figure size 640x480 with 1 Axes>"
      ]
     },
     "metadata": {},
     "output_type": "display_data"
    }
   ],
   "source": [
    "def test_prediction(index):\n",
    "    current_image = X_test[:, index:index+1]\n",
    "    prediction = model.make_predictions(current_image)\n",
    "    label = Y_test[:, index:index+1]\n",
    "    print(\"Prediction: \", np.argmax(prediction, 0))\n",
    "    print(\"Label: \", np.argmax(label, 0))\n",
    "    current_image = current_image.reshape((28, 28)) * 255\n",
    "    plt.gray()\n",
    "    plt.imshow(current_image, interpolation='nearest')\n",
    "    plt.show()\n",
    "\n",
    "test_prediction(1020)"
   ]
  },
  {
   "cell_type": "code",
   "execution_count": null,
   "id": "3e79b8be-a436-4ea3-b6bf-533080c9de89",
   "metadata": {},
   "outputs": [],
   "source": []
  }
 ],
 "metadata": {
  "kernelspec": {
   "display_name": "Python 3 (ipykernel)",
   "language": "python",
   "name": "python3"
  },
  "language_info": {
   "codemirror_mode": {
    "name": "ipython",
    "version": 3
   },
   "file_extension": ".py",
   "mimetype": "text/x-python",
   "name": "python",
   "nbconvert_exporter": "python",
   "pygments_lexer": "ipython3",
   "version": "3.11.5"
  }
 },
 "nbformat": 4,
 "nbformat_minor": 5
}
