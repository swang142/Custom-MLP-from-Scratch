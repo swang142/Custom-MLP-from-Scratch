{
 "cells": [
  {
   "cell_type": "code",
   "execution_count": 2,
   "id": "95d34089-2772-4a57-af28-1b8eb0bb4180",
   "metadata": {},
   "outputs": [],
   "source": [
    "from importnb import Notebook\n",
    "import sys\n",
    "import os\n",
    "\n",
    "sys.path.append(os.path.abspath('..'))\n",
    "\n",
    "with Notebook():\n",
    "    from CustomMLPFromScratch import SimpleMLPNN"
   ]
  },
  {
   "cell_type": "code",
   "execution_count": 3,
   "id": "e879fbf3-c76a-49e2-91ee-d8c46dc31e8c",
   "metadata": {},
   "outputs": [
    {
     "name": "stdout",
     "output_type": "stream",
     "text": [
      "(785, 10000)\n",
      "(784, 50000)\n",
      "(1, 50000)\n"
     ]
    }
   ],
   "source": [
    "import pandas as pd\n",
    "import numpy as np\n",
    "\n",
    "data = pd.read_csv('./mnist_train.csv')\n",
    "train_data = np.array(data)[:50000].T\n",
    "test_data = np.array(data)[50000:].T\n",
    "\n",
    "print(test_data.shape)\n",
    "\n",
    "cols = train_data.shape[1]\n",
    "X_train = train_data[1:cols]/255.0\n",
    "Y_train = train_data[0].reshape(1, -1)\n",
    "\n",
    "X_test = test_data[1:cols]/255.0\n",
    "Y_test = test_data[0].reshape(1, -1)\n",
    "\n",
    "print(X_train.shape)\n",
    "print(Y_train.shape)\n",
    "\n",
    "def one_hot_encode(Y):\n",
    "    one_hot_matrix = np.zeros((Y.size, Y.max() + 1))\n",
    "    one_hot_matrix[np.arange(Y.size), Y] = 1\n",
    "    return one_hot_matrix.T\n",
    "    \n",
    "Y_train = one_hot_encode(Y_train)\n",
    "Y_test = one_hot_encode(Y_test)"
   ]
  },
  {
   "cell_type": "code",
   "execution_count": 4,
   "id": "17f339d4-a259-4ef6-a1f2-85c15bae77d7",
   "metadata": {},
   "outputs": [
    {
     "name": "stdout",
     "output_type": "stream",
     "text": [
      "Epoch 0, Cost: 0.3721347389202978\n",
      "Epoch 50, Cost: 0.16655038621171475\n",
      "Epoch 100, Cost: 0.15521268423155665\n",
      "Epoch 150, Cost: 0.13913964518067892\n"
     ]
    }
   ],
   "source": [
    "layer_sizes = [784, 10, 10]\n",
    "activations = ['relu', 'softmax']\n",
    "\n",
    "model = SimpleMLPNN(layer_sizes, activations, loss_function='categorical_cross_entropy', learning_rate = 0.1)\n",
    "model.train(X_train, Y_train, 300,  64)"
   ]
  },
  {
   "cell_type": "code",
   "execution_count": 5,
   "id": "68c75c2c-eda9-4feb-b5d2-c4277fb068bc",
   "metadata": {},
   "outputs": [
    {
     "name": "stdout",
     "output_type": "stream",
     "text": [
      "Test Accuracy: 0.9338\n"
     ]
    },
    {
     "data": {
      "text/plain": [
       "0.9338"
      ]
     },
     "execution_count": 5,
     "metadata": {},
     "output_type": "execute_result"
    }
   ],
   "source": [
    "model.test(X_test, Y_test, metric = 'accuracy')"
   ]
  },
  {
   "cell_type": "code",
   "execution_count": 6,
   "id": "98748a89-bc01-48b3-88ed-fdf710ce279e",
   "metadata": {},
   "outputs": [
    {
     "ename": "FileNotFoundError",
     "evalue": "[Errno 2] No such file or directory: 'C:\\\\Users\\\\tosta\\\\CustomMLPfromscratch\\\\MNIST\\\\canvas(5).png'",
     "output_type": "error",
     "traceback": [
      "\u001b[1;31m---------------------------------------------------------------------------\u001b[0m",
      "\u001b[1;31mFileNotFoundError\u001b[0m                         Traceback (most recent call last)",
      "Cell \u001b[1;32mIn[6], line 6\u001b[0m\n\u001b[0;32m      2\u001b[0m \u001b[38;5;28;01mimport\u001b[39;00m \u001b[38;5;21;01mnumpy\u001b[39;00m \u001b[38;5;28;01mas\u001b[39;00m \u001b[38;5;21;01mnp\u001b[39;00m\n\u001b[0;32m      3\u001b[0m \u001b[38;5;28;01mimport\u001b[39;00m \u001b[38;5;21;01mmatplotlib\u001b[39;00m\u001b[38;5;21;01m.\u001b[39;00m\u001b[38;5;21;01mpyplot\u001b[39;00m \u001b[38;5;28;01mas\u001b[39;00m \u001b[38;5;21;01mplt\u001b[39;00m\n\u001b[1;32m----> 6\u001b[0m image \u001b[38;5;241m=\u001b[39m Image\u001b[38;5;241m.\u001b[39mopen(\u001b[38;5;124m'\u001b[39m\u001b[38;5;124m./canvas(5).png\u001b[39m\u001b[38;5;124m'\u001b[39m)\n\u001b[0;32m      7\u001b[0m image \u001b[38;5;241m=\u001b[39m image\u001b[38;5;241m.\u001b[39mconvert(\u001b[38;5;124m'\u001b[39m\u001b[38;5;124mL\u001b[39m\u001b[38;5;124m'\u001b[39m)\n\u001b[0;32m      9\u001b[0m image \u001b[38;5;241m=\u001b[39m ImageOps\u001b[38;5;241m.\u001b[39minvert(image)\n",
      "File \u001b[1;32mC:\\ProgramData\\anaconda3\\Lib\\site-packages\\PIL\\Image.py:3277\u001b[0m, in \u001b[0;36mopen\u001b[1;34m(fp, mode, formats)\u001b[0m\n\u001b[0;32m   3274\u001b[0m     filename \u001b[38;5;241m=\u001b[39m os\u001b[38;5;241m.\u001b[39mpath\u001b[38;5;241m.\u001b[39mrealpath(os\u001b[38;5;241m.\u001b[39mfspath(fp))\n\u001b[0;32m   3276\u001b[0m \u001b[38;5;28;01mif\u001b[39;00m filename:\n\u001b[1;32m-> 3277\u001b[0m     fp \u001b[38;5;241m=\u001b[39m builtins\u001b[38;5;241m.\u001b[39mopen(filename, \u001b[38;5;124m\"\u001b[39m\u001b[38;5;124mrb\u001b[39m\u001b[38;5;124m\"\u001b[39m)\n\u001b[0;32m   3278\u001b[0m     exclusive_fp \u001b[38;5;241m=\u001b[39m \u001b[38;5;28;01mTrue\u001b[39;00m\n\u001b[0;32m   3280\u001b[0m \u001b[38;5;28;01mtry\u001b[39;00m:\n",
      "\u001b[1;31mFileNotFoundError\u001b[0m: [Errno 2] No such file or directory: 'C:\\\\Users\\\\tosta\\\\CustomMLPfromscratch\\\\MNIST\\\\canvas(5).png'"
     ]
    }
   ],
   "source": [
    "from PIL import Image, ImageOps\n",
    "import numpy as np\n",
    "import matplotlib.pyplot as plt\n",
    "\n",
    "image = Image.open('./canvas(5).png')\n",
    "image = image.convert('L')\n",
    "\n",
    "image = ImageOps.invert(image)\n",
    "\n",
    "# Resize the image to 28x28 pixels\n",
    "image = image.resize((28, 28))\n",
    "image_np = np.array(image)\n",
    "\n",
    "# Normalize the pixel values to the range [0, 1]\n",
    "image_np = image_np / 255.0\n",
    "\n",
    "plt.gray()\n",
    "plt.imshow(image_np, interpolation='nearest')\n",
    "plt.show()\n",
    "\n",
    "image_np = image_np.reshape((784,1))\n",
    "\n",
    "pred_arr = model.make_predictions(image_np)\n",
    "print(pred_arr)\n",
    "print(np.argmax(pred_arr, 0))"
   ]
  },
  {
   "cell_type": "code",
   "execution_count": null,
   "id": "120477df-e6db-4d72-af01-3f9499b4eeb3",
   "metadata": {},
   "outputs": [],
   "source": [
    "def test_prediction(index):\n",
    "    current_image = X_test[:, index:index+1]\n",
    "    prediction = model.make_predictions(current_image)\n",
    "    label = Y_test[:, index:index+1]\n",
    "    print(\"Prediction: \", np.argmax(prediction, 0))\n",
    "    print(\"Label: \", np.argmax(label, 0))\n",
    "    current_image = current_image.reshape((28, 28)) * 255\n",
    "    plt.gray()\n",
    "    plt.imshow(current_image, interpolation='nearest')\n",
    "    plt.show()\n",
    "\n",
    "test_prediction(1020)"
   ]
  },
  {
   "cell_type": "code",
   "execution_count": null,
   "id": "3e79b8be-a436-4ea3-b6bf-533080c9de89",
   "metadata": {},
   "outputs": [],
   "source": []
  }
 ],
 "metadata": {
  "kernelspec": {
   "display_name": "Python 3 (ipykernel)",
   "language": "python",
   "name": "python3"
  },
  "language_info": {
   "codemirror_mode": {
    "name": "ipython",
    "version": 3
   },
   "file_extension": ".py",
   "mimetype": "text/x-python",
   "name": "python",
   "nbconvert_exporter": "python",
   "pygments_lexer": "ipython3",
   "version": "3.11.5"
  }
 },
 "nbformat": 4,
 "nbformat_minor": 5
}
